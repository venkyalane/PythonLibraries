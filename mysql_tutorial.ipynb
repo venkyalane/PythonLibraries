{
 "cells": [
  {
   "cell_type": "code",
   "execution_count": 1,
   "metadata": {},
   "outputs": [],
   "source": [
    "import mysql.connector"
   ]
  },
  {
   "cell_type": "code",
   "execution_count": 2,
   "metadata": {},
   "outputs": [],
   "source": [
    "conn = mysql.connector.connect(host='localhost', password='@laneVenky95', user='root', port=3306, database = 'revison')"
   ]
  },
  {
   "cell_type": "code",
   "execution_count": 3,
   "metadata": {},
   "outputs": [],
   "source": [
    "curobj = conn.cursor()"
   ]
  },
  {
   "cell_type": "code",
   "execution_count": 41,
   "metadata": {},
   "outputs": [
    {
     "name": "stdout",
     "output_type": "stream",
     "text": [
      "(1, 'Meena', 'HYD', 4000)\n",
      "(2, 'tina', 'Pune', 3000)\n",
      "(3, 'Mona', 'Mumbai', 5000)\n",
      "(4, 'priya', 'Jaipur', 7000)\n",
      "(5, 'Meera', 'Patna', 8000)\n",
      "(6, 'radha', 'Delhi', 9000)\n",
      "(7, 'shina', 'Goa', 2000)\n",
      "(8, 'Amit', 'Panji', 4000)\n",
      "(9, 'Bali_Patil', 'Panji', 3400)\n",
      "(10, 'SAM_Curran', 'UK', 4500)\n",
      "Totle rows:  10\n"
     ]
    }
   ],
   "source": [
    "# fetch all records from table\n",
    "sql_qry = input(\"enter sql_qry(countries, emp, employee): \")\n",
    "curobj.execute(sql_qry)\n",
    "rows = curobj.fetchall()\n",
    "for row in rows:\n",
    "    print(row)\n",
    "print(\"Total rows: \",curobj.rowcount)"
   ]
  },
  {
   "cell_type": "code",
   "execution_count": 21,
   "metadata": {},
   "outputs": [
    {
     "name": "stdout",
     "output_type": "stream",
     "text": [
      "1 rows inserted...\n"
     ]
    }
   ],
   "source": [
    "# insert records in table\n",
    "sql_qry = input(\"enter sql_qry(countries, emp, employee): \")\n",
    "try:\n",
    "    curobj.execute(sql_qry)\n",
    "    conn.commit()\n",
    "    print(curobj.rowcount, \"rows inserted...\")\n",
    "except:\n",
    "    conn.rollback()\n",
    "    print(\"unable to insert!!!\")"
   ]
  },
  {
   "cell_type": "code",
   "execution_count": 63,
   "metadata": {},
   "outputs": [
    {
     "name": "stdout",
     "output_type": "stream",
     "text": [
      "(2000,)\n"
     ]
    }
   ],
   "source": [
    "# first min salry\n",
    "sql_qry = \"select min(sal) as minsal from emp\"\n",
    "curobj.execute(sql_qry)\n",
    "row = curobj.fetchone()\n",
    "print(row)"
   ]
  },
  {
   "cell_type": "code",
   "execution_count": 64,
   "metadata": {},
   "outputs": [
    {
     "name": "stdout",
     "output_type": "stream",
     "text": [
      "(3000,)\n"
     ]
    }
   ],
   "source": [
    "# second min salary\n",
    "sql_qry = \"select min(sal) as secondMinSAL from emp where sal >(select min(sal) from emp)\"\n",
    "curobj.execute(sql_qry)\n",
    "row = curobj.fetchone()\n",
    "print(row)"
   ]
  },
  {
   "cell_type": "code",
   "execution_count": 65,
   "metadata": {},
   "outputs": [
    {
     "name": "stdout",
     "output_type": "stream",
     "text": [
      "(3400,)\n"
     ]
    }
   ],
   "source": [
    "# third min salary\n",
    "sql_qry = \"select min(sal) as secondMinSAL from emp where sal >(select min(sal) from emp where sal >(select min(sal) from emp))\"\n",
    "curobj.execute(sql_qry)\n",
    "row = curobj.fetchone()\n",
    "print(row)"
   ]
  },
  {
   "cell_type": "code",
   "execution_count": 5,
   "metadata": {},
   "outputs": [
    {
     "name": "stdout",
     "output_type": "stream",
     "text": [
      "Table created...\n"
     ]
    }
   ],
   "source": [
    "sql_qry = input(\"Enter qry for creat table: \")\n",
    "try:\n",
    "    curobj.execute(sql_qry)\n",
    "    print(\"Table created...\")\n",
    "except:\n",
    "    print(\"Something went wrong!!!\")"
   ]
  },
  {
   "cell_type": "code",
   "execution_count": 14,
   "metadata": {},
   "outputs": [
    {
     "name": "stdout",
     "output_type": "stream",
     "text": [
      "Unable to insert!!!\n"
     ]
    }
   ],
   "source": [
    "sql_qry = input(\"Enter qry for insert record: \")\n",
    "try:\n",
    "    curobj.execute(sql_qry)\n",
    "    conn.commit()\n",
    "    print(curobj.rowcount, \"record inserted...\")\n",
    "except:\n",
    "    conn.rollback()\n",
    "    print(\"Unable to insert!!!\")\n",
    "finally:\n",
    "    curobj.reset()"
   ]
  },
  {
   "cell_type": "code",
   "execution_count": 16,
   "metadata": {},
   "outputs": [],
   "source": [
    "curobj.close()\n",
    "conn.close()"
   ]
  }
 ],
 "metadata": {
  "kernelspec": {
   "display_name": "Python 3",
   "language": "python",
   "name": "python3"
  },
  "language_info": {
   "codemirror_mode": {
    "name": "ipython",
    "version": 3
   },
   "file_extension": ".py",
   "mimetype": "text/x-python",
   "name": "python",
   "nbconvert_exporter": "python",
   "pygments_lexer": "ipython3",
   "version": "3.12.2"
  }
 },
 "nbformat": 4,
 "nbformat_minor": 2
}
