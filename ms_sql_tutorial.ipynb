{
 "cells": [
  {
   "cell_type": "code",
   "execution_count": 1,
   "metadata": {},
   "outputs": [],
   "source": [
    "import pypyodbc as odbc\n",
    "from cred import *"
   ]
  },
  {
   "cell_type": "code",
   "execution_count": 8,
   "metadata": {},
   "outputs": [],
   "source": [
    "conn = odbc.connect(\n",
    "        driver= driver,\n",
    "        server= server,\n",
    "        database = database,\n",
    "        Trust_connection= Trust_connection)"
   ]
  },
  {
   "cell_type": "code",
   "execution_count": 9,
   "metadata": {},
   "outputs": [],
   "source": [
    "curobj = conn.cursor()"
   ]
  },
  {
   "cell_type": "code",
   "execution_count": 20,
   "metadata": {},
   "outputs": [
    {
     "name": "stdout",
     "output_type": "stream",
     "text": [
      "(11112881, 'Shubham', '2015-12-09', 'MUMBAI', 9)\n",
      "(11112882, 'Rihan', '2016-01-12', 'Jaipur', 8)\n",
      "(11112883, 'Sheetal', '2017-08-11', 'GOA', 7)\n",
      "(11112884, 'Priyanka', '2017-01-01', 'Chennai', 7)\n",
      "(11112885, 'Manik', '2015-01-08', 'Agra', 9)\n",
      "(11112886, 'Veena', '2021-01-01', 'Patna', 3)\n",
      "(11112887, 'Rohan', '2019-07-01', 'Pune', 5)\n",
      "(11112888, 'Laxmi', '2024-10-10', 'rohatak', 0)\n",
      "(11112889, 'Jinal', '2024-10-10', 'Indore', 0)\n"
     ]
    }
   ],
   "source": [
    "curobj.execute(\"select *, DATEDIFF(YEAR, ACCT_OPEN_DATE, GETDATE()) as accountage from Account_details\")\n",
    "rows = curobj.fetchall()\n",
    "for row in rows:\n",
    "    print(row)"
   ]
  },
  {
   "cell_type": "code",
   "execution_count": 30,
   "metadata": {},
   "outputs": [
    {
     "name": "stdout",
     "output_type": "stream",
     "text": [
      "(11112898, 'poonam', '2022-05-16', 'mumbai') row inserted...\n"
     ]
    }
   ],
   "source": [
    "n = input(\"enter name: \")\n",
    "acc_o_date = input(\"enter date(yyyy-mm-dd): \")\n",
    "c = input(\"enter branch: \")\n",
    "try:\n",
    "    curobj.execute(f\"insert into Account_details values ('{n}','{acc_o_date}','{c}')\")\n",
    "    data = curobj.fetchone()\n",
    "    conn.commit()\n",
    "    print(data, \"row inserted...\")\n",
    "except:\n",
    "    conn.rollback()\n",
    "    print(\"Unable to insert!!!\")\n"
   ]
  },
  {
   "cell_type": "code",
   "execution_count": 44,
   "metadata": {},
   "outputs": [
    {
     "name": "stdout",
     "output_type": "stream",
     "text": [
      "None deleted...\n"
     ]
    }
   ],
   "source": [
    "acc_num = int(input(\"enter account number: \"))\n",
    "try:\n",
    "    curobj.execute(f\"delete from Account_details where ACCT_NUMBER = {acc_num}\")\n",
    "    deleted_data = curobj.fetchone()\n",
    "    conn.commit()\n",
    "    print(deleted_data, \"deleted...\")\n",
    "except:\n",
    "    conn.rollback()\n",
    "    print(f\"Account number {acc_num} data not exist!!!\")"
   ]
  },
  {
   "cell_type": "code",
   "execution_count": 11,
   "metadata": {},
   "outputs": [
    {
     "name": "stdout",
     "output_type": "stream",
     "text": [
      "table schema:  venky_db\n",
      "table name:  Account_details_dml_info\n",
      "table type:  BASE TABLE\n",
      "\n",
      "table schema:  venky_db\n",
      "table name:  set1\n",
      "table type:  BASE TABLE\n",
      "\n",
      "table schema:  venky_db\n",
      "table name:  set2\n",
      "table type:  BASE TABLE\n",
      "\n",
      "table schema:  venky_db\n",
      "table name:  Account_details\n",
      "table type:  BASE TABLE\n",
      "\n",
      "table schema:  venky_db\n",
      "table name:  sysdiagrams\n",
      "table type:  BASE TABLE\n",
      "\n"
     ]
    }
   ],
   "source": [
    "curobj.execute(\"select * from information_schema.tables\")\n",
    "rows = curobj.fetchall()\n",
    "for row in rows:\n",
    "    print(\"table schema: \",row[0])\n",
    "    print(\"table name: \",row[2])\n",
    "    print(\"table type: \",row[3])\n",
    "    print()"
   ]
  },
  {
   "cell_type": "code",
   "execution_count": 19,
   "metadata": {},
   "outputs": [
    {
     "name": "stdout",
     "output_type": "stream",
     "text": [
      "(1, 'acct_number 11112881 is inserted at Oct 19 2024  5:07PM')\n",
      "(2, 'acct_number 11112882 is inserted at Oct 19 2024  5:07PM')\n",
      "(3, 'acct_number 11112883 is inserted at Oct 19 2024  5:07PM')\n",
      "(4, 'acct_number 11112884 is inserted at Oct 19 2024  5:07PM')\n",
      "(5, 'acct_number 11112885 is inserted at Oct 19 2024  5:07PM')\n",
      "(6, 'acct_number 11112886 is inserted at Oct 19 2024  5:07PM')\n",
      "(7, 'acct_number 11112887 is inserted at Oct 19 2024  5:07PM')\n",
      "(8, 'acct_number 11112888 is inserted at Oct 19 2024  5:07PM')\n",
      "(9, 'acct_number 11112889 is inserted at Oct 19 2024  5:07PM')\n"
     ]
    }
   ],
   "source": [
    "curobj.execute(\"select * from Account_details_dml_info\")\n",
    "rows = curobj.fetchall()\n",
    "for row in rows:\n",
    "    print(row)"
   ]
  },
  {
   "cell_type": "code",
   "execution_count": 17,
   "metadata": {},
   "outputs": [
    {
     "name": "stdout",
     "output_type": "stream",
     "text": [
      "updated\n"
     ]
    }
   ],
   "source": [
    "try:\n",
    "    curobj.execute(\"update Account_details set branch = 'chennai' where acct_number = 11112900\")\n",
    "    conn.commit()\n",
    "    print(\"updated\")\n",
    "except:\n",
    "    conn.rollback()\n",
    "    print(\"Error!!!\")"
   ]
  },
  {
   "cell_type": "code",
   "execution_count": 21,
   "metadata": {},
   "outputs": [],
   "source": [
    "curobj.close()\n",
    "conn.close()"
   ]
  }
 ],
 "metadata": {
  "kernelspec": {
   "display_name": "Python 3",
   "language": "python",
   "name": "python3"
  },
  "language_info": {
   "codemirror_mode": {
    "name": "ipython",
    "version": 3
   },
   "file_extension": ".py",
   "mimetype": "text/x-python",
   "name": "python",
   "nbconvert_exporter": "python",
   "pygments_lexer": "ipython3",
   "version": "3.12.2"
  }
 },
 "nbformat": 4,
 "nbformat_minor": 2
}
